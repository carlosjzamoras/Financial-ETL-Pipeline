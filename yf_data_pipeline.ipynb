{
  "nbformat": 4,
  "nbformat_minor": 0,
  "metadata": {
    "colab": {
      "provenance": []
    },
    "kernelspec": {
      "name": "python3",
      "display_name": "Python 3"
    },
    "language_info": {
      "name": "python"
    }
  },
  "cells": [
    {
      "cell_type": "markdown",
      "source": [
        "Importing required libraries."
      ],
      "metadata": {
        "id": "ZJiTRXKIPf7Y"
      }
    },
    {
      "cell_type": "code",
      "source": [
        "import requests\n",
        "import json\n",
        "import pandas as pd\n",
        "import yfinance as yf\n",
        "!pip install snowflake-connector-python"
      ],
      "metadata": {
        "colab": {
          "base_uri": "https://localhost:8080/"
        },
        "collapsed": true,
        "id": "I-UXW7bjPU2T",
        "outputId": "cf9cffe3-872e-47a6-e4ae-4c0acd6e9f57"
      },
      "execution_count": 3,
      "outputs": [
        {
          "output_type": "stream",
          "name": "stdout",
          "text": [
            "Requirement already satisfied: snowflake-connector-python in /usr/local/lib/python3.11/dist-packages (3.15.0)\n",
            "Requirement already satisfied: asn1crypto<2.0.0,>0.24.0 in /usr/local/lib/python3.11/dist-packages (from snowflake-connector-python) (1.5.1)\n",
            "Requirement already satisfied: boto3>=1.24 in /usr/local/lib/python3.11/dist-packages (from snowflake-connector-python) (1.38.36)\n",
            "Requirement already satisfied: botocore>=1.24 in /usr/local/lib/python3.11/dist-packages (from snowflake-connector-python) (1.38.36)\n",
            "Requirement already satisfied: cffi<2.0.0,>=1.9 in /usr/local/lib/python3.11/dist-packages (from snowflake-connector-python) (1.17.1)\n",
            "Requirement already satisfied: cryptography>=3.1.0 in /usr/local/lib/python3.11/dist-packages (from snowflake-connector-python) (43.0.3)\n",
            "Requirement already satisfied: pyOpenSSL<26.0.0,>=22.0.0 in /usr/local/lib/python3.11/dist-packages (from snowflake-connector-python) (24.2.1)\n",
            "Requirement already satisfied: pyjwt<3.0.0 in /usr/local/lib/python3.11/dist-packages (from snowflake-connector-python) (2.10.1)\n",
            "Requirement already satisfied: pytz in /usr/local/lib/python3.11/dist-packages (from snowflake-connector-python) (2025.2)\n",
            "Requirement already satisfied: requests<3.0.0 in /usr/local/lib/python3.11/dist-packages (from snowflake-connector-python) (2.32.3)\n",
            "Requirement already satisfied: packaging in /usr/local/lib/python3.11/dist-packages (from snowflake-connector-python) (24.2)\n",
            "Requirement already satisfied: charset_normalizer<4,>=2 in /usr/local/lib/python3.11/dist-packages (from snowflake-connector-python) (3.4.2)\n",
            "Requirement already satisfied: idna<4,>=2.5 in /usr/local/lib/python3.11/dist-packages (from snowflake-connector-python) (3.10)\n",
            "Requirement already satisfied: certifi>=2017.4.17 in /usr/local/lib/python3.11/dist-packages (from snowflake-connector-python) (2025.4.26)\n",
            "Requirement already satisfied: typing_extensions<5,>=4.3 in /usr/local/lib/python3.11/dist-packages (from snowflake-connector-python) (4.14.0)\n",
            "Requirement already satisfied: filelock<4,>=3.5 in /usr/local/lib/python3.11/dist-packages (from snowflake-connector-python) (3.18.0)\n",
            "Requirement already satisfied: sortedcontainers>=2.4.0 in /usr/local/lib/python3.11/dist-packages (from snowflake-connector-python) (2.4.0)\n",
            "Requirement already satisfied: platformdirs<5.0.0,>=2.6.0 in /usr/local/lib/python3.11/dist-packages (from snowflake-connector-python) (4.3.8)\n",
            "Requirement already satisfied: tomlkit in /usr/local/lib/python3.11/dist-packages (from snowflake-connector-python) (0.13.2)\n",
            "Requirement already satisfied: jmespath<2.0.0,>=0.7.1 in /usr/local/lib/python3.11/dist-packages (from boto3>=1.24->snowflake-connector-python) (1.0.1)\n",
            "Requirement already satisfied: s3transfer<0.14.0,>=0.13.0 in /usr/local/lib/python3.11/dist-packages (from boto3>=1.24->snowflake-connector-python) (0.13.0)\n",
            "Requirement already satisfied: python-dateutil<3.0.0,>=2.1 in /usr/local/lib/python3.11/dist-packages (from botocore>=1.24->snowflake-connector-python) (2.9.0.post0)\n",
            "Requirement already satisfied: urllib3!=2.2.0,<3,>=1.25.4 in /usr/local/lib/python3.11/dist-packages (from botocore>=1.24->snowflake-connector-python) (2.4.0)\n",
            "Requirement already satisfied: pycparser in /usr/local/lib/python3.11/dist-packages (from cffi<2.0.0,>=1.9->snowflake-connector-python) (2.22)\n",
            "Requirement already satisfied: six>=1.5 in /usr/local/lib/python3.11/dist-packages (from python-dateutil<3.0.0,>=2.1->botocore>=1.24->snowflake-connector-python) (1.17.0)\n"
          ]
        }
      ]
    },
    {
      "cell_type": "markdown",
      "source": [
        "The first step is to get a complete list of the Fortune 500 companies.\n",
        "We access an wiki variant api and pull the required data and parse through the json file."
      ],
      "metadata": {
        "id": "1s9HYfGUP8nR"
      }
    },
    {
      "cell_type": "code",
      "source": [
        "url = \"https://www.wikitable2json.com/api/List_of_S%26P_500_companies?table=0\"\n",
        "response = requests.request(\"GET\",url)\n",
        "list_500 =[]\n",
        "counter = 1\n",
        "#Extract the relevant symbology for the Fortune 500 companies\n",
        "while counter < 501:\n",
        "  for i in response.json():\n",
        "    list_500.append(i[counter][0])\n",
        "  counter += 1\n",
        "#The particular companies do not have any data\n",
        "list_500.remove(\"BF.B\")\n",
        "list_500.remove(\"BRK.B\")"
      ],
      "metadata": {
        "id": "nVXcwxyBREoE"
      },
      "execution_count": 29,
      "outputs": []
    },
    {
      "cell_type": "code",
      "source": [
        "data = yf.download(list_500,period='1mo',interval='1d',start='2024-01-01',end='2024-12-31')"
      ],
      "metadata": {
        "colab": {
          "base_uri": "https://localhost:8080/"
        },
        "collapsed": true,
        "id": "iM64sbzVb3Du",
        "outputId": "56e858d5-2643-4af0-f608-b5b73c55a14a"
      },
      "execution_count": 109,
      "outputs": [
        {
          "output_type": "stream",
          "name": "stderr",
          "text": [
            "[*********************100%***********************]  498 of 498 completed\n"
          ]
        }
      ]
    },
    {
      "cell_type": "code",
      "source": [
        "data_flat = data.stack(level=1).reset_index()\n",
        "data_flat.columns = ['Date', 'Ticker', 'Open', 'High', 'Low', 'Close', 'Volume']\n",
        "data_flat['Date'] = pd.to_datetime(data_flat['Date'])\n",
        "print(data_flat)"
      ],
      "metadata": {
        "colab": {
          "base_uri": "https://localhost:8080/"
        },
        "id": "mxqCQUek84vu",
        "outputId": "24b07713-d190-43e5-832b-d7456547de03"
      },
      "execution_count": 158,
      "outputs": [
        {
          "output_type": "stream",
          "name": "stderr",
          "text": [
            "<ipython-input-158-988514380>:1: FutureWarning: The previous implementation of stack is deprecated and will be removed in a future version of pandas. See the What's New notes for pandas 2.1.0 for details. Specify future_stack=True to adopt the new implementation and silence this warning.\n",
            "  data_flat = data.stack(level=1).reset_index()\n"
          ]
        },
        {
          "output_type": "stream",
          "name": "stdout",
          "text": [
            "             Date Ticker        Open        High         Low       Close      Volume\n",
            "0      2024-01-02      A  137.501770  139.325213  136.669331  136.946810   1441600.0\n",
            "1      2024-01-02   AAPL  184.290405  187.070052  182.553128  185.789422  82488700.0\n",
            "2      2024-01-02   ABBV  151.344757  151.647780  146.562556  146.685652   8059900.0\n",
            "3      2024-01-02   ABNB  134.479996  135.600006  133.339996  134.429993   3485200.0\n",
            "4      2024-01-02    ABT  106.644485  107.760929  106.362947  106.362947   5058600.0\n",
            "...           ...    ...         ...         ...         ...         ...         ...\n",
            "124743 2024-12-30   WYNN   85.374672   86.936343   84.787798   86.936343   2180100.0\n",
            "124744 2024-12-30    XEL   65.929565   66.466057   65.510136   66.466057   2642900.0\n",
            "124745 2024-12-30    XOM  103.865776  104.651443  103.620254  104.396105  11080800.0\n",
            "124746 2024-12-30    XYL  115.551468  116.068214  114.438490  115.730340    586800.0\n",
            "124747 2024-12-30    YUM  132.243332  133.124821  131.728300  132.847500   1144600.0\n",
            "\n",
            "[124748 rows x 7 columns]\n"
          ]
        }
      ]
    },
    {
      "cell_type": "code",
      "source": [
        "import snowflake.connector\n",
        "from snowflake.connector.pandas_tools import write_pandas\n",
        "from codecs import open"
      ],
      "metadata": {
        "id": "LbFZETlJVdtE"
      },
      "execution_count": 43,
      "outputs": []
    },
    {
      "cell_type": "code",
      "source": [
        "\n",
        "cnn = snowflake.connector.connect(\n",
        "  account = \"VFQPREV-IVC18679\",\n",
        "  user = \"CARLOSJZAMORASANTANA\",\n",
        "  password = \"Snowflake2025#\",\n",
        "  role = \"ACCOUNTADMIN\",\n",
        "  warehouse = \"<none selected>\",\n",
        "  database = \"<none selected>\",\n",
        "  schema = \"<none selected>\",\n",
        ")\n",
        "print(\"Connected\")\n",
        "\n",
        "print(\"Creating Warehouse, Database, and Schema \")\n",
        "# Creating the table warehosue, database, schema, and table\n",
        "print(\"Creating Warhouse...\")\n",
        "cnn.cursor().execute(\"CREATE WAREHOUSE IF NOT EXISTS financial_warehouse\")\n",
        "print(\"Done...\")\n",
        "print(\"Creating Database...\")\n",
        "cnn.cursor().execute(\"CREATE DATABASE IF NOT EXISTS financial_database\")\n",
        "cnn.cursor().execute(\"USE DATABASE financial_database\")\n",
        "print(\"Done...\")\n",
        "print(\"Creating Schema\")\n",
        "cnn.cursor().execute(\"CREATE SCHEMA IF NOT EXISTS financial_schema\")\n",
        "cnn.cursor().execute(\"USE SCHEMA financial_schema\")\n",
        "print(\"Done\")\n",
        "print(\"Closing...\")\n",
        "cnn.close()\n",
        "print(\"Done..\")"
      ],
      "metadata": {
        "colab": {
          "base_uri": "https://localhost:8080/"
        },
        "collapsed": true,
        "id": "zv50lyPkWDrC",
        "outputId": "b9b63ce7-0657-47b9-e25a-94571264a1a1"
      },
      "execution_count": 10,
      "outputs": [
        {
          "output_type": "stream",
          "name": "stdout",
          "text": [
            "Connected\n",
            "Creating Warehouse, Database, and Schema \n",
            "Creating Warhouse...\n",
            "Done...\n",
            "Creating Database...\n",
            "Done...\n",
            "Creating Schema\n",
            "Done\n",
            "Closing...\n",
            "Done..\n"
          ]
        }
      ]
    },
    {
      "cell_type": "code",
      "execution_count": 161,
      "metadata": {
        "colab": {
          "base_uri": "https://localhost:8080/"
        },
        "id": "wJPRfwiJGriN",
        "outputId": "7c9fa3fe-e894-46d0-88ef-ffc13b2dd68f",
        "collapsed": true
      },
      "outputs": [
        {
          "output_type": "stream",
          "name": "stdout",
          "text": [
            "Establishing Connection...\n",
            "Connected...\n",
            "Creating new table to insert DF into ...\n",
            "Completed...\n",
            "Checking execution...\n",
            "Closing Connection...\n",
            "Done\n"
          ]
        }
      ],
      "source": [
        "# Inserting 2024 financial data into table into Snowflake\n",
        "# Create a table\n",
        "table = \"financial_table\"\n",
        "\n",
        "# Establishing Connection again but specifying the warehouse, database, etc\n",
        "print(\"Establishing Connection...\")\n",
        "cnn = snowflake.connector.connect(\n",
        "  account = \"VFQPREV-IVC18679\",\n",
        "  user = \"CARLOSJZAMORASANTANA\",\n",
        "  password = \"Snowflake2025#\",\n",
        "  role = \"ACCOUNTADMIN\",\n",
        "  warehouse = \"financial_warehouse\",\n",
        "  database = \"financial_database\",\n",
        "  schema = \"financial_schema\",\n",
        ")\n",
        "print(\"Connected...\")\n",
        "\n",
        "\n",
        "print(\"Creating new table to insert DF into ...\")\n",
        "# Insert data frame into table via Snowflake\n",
        "\n",
        "# # Reset the index, rename the index column to 'DATE', convert other column names to uppercase, and rename the 'ALL' column\n",
        "# df_to_write = download_data[\"Close\"].reset_index().rename(columns={'index': 'DATE'})\n",
        "# df_to_write.columns = df_to_write.columns.str.upper()\n",
        "# # Rename the 'ALL' column after converting to uppercase\n",
        "# df_to_write.rename(columns={'ALL': 'ALL_TICKER'}, inplace=True)\n",
        "\n",
        "\n",
        "write_pandas(cnn, data_flat, table, auto_create_table=True,use_deprecated_int96_timestamps=True, allow_truncated_timestamps=True)\n",
        "print('Completed...')\n",
        "print(\"Checking execution...\")\n",
        "print(\"Closing Connection...\")\n",
        "cnn.close()\n",
        "print('Done')"
      ]
    },
    {
      "cell_type": "code",
      "source": [
        "#Get the industry and sector for each company\n",
        "#Will make creating a dashboard easier\n",
        "columns_name = [\"Company\", \"Industry\", \"Sector\"]\n",
        "df = pd.DataFrame(columns=columns_name)\n",
        "for i in list_500:\n",
        "  df.loc[len(df)] = [i,yf.Ticker(i).get_info()[\"industry\"],yf.Ticker(i).get_info()[\"sector\"]]"
      ],
      "metadata": {
        "id": "fS8hGKUrK7zK"
      },
      "execution_count": 186,
      "outputs": []
    },
    {
      "cell_type": "code",
      "source": [
        "print(df)"
      ],
      "metadata": {
        "colab": {
          "base_uri": "https://localhost:8080/"
        },
        "id": "HqaODUHfTejS",
        "outputId": "519f9429-a2a3-43ea-ff50-5be06484f159"
      },
      "execution_count": 187,
      "outputs": [
        {
          "output_type": "stream",
          "name": "stdout",
          "text": [
            "    Company                         Industry             Sector\n",
            "0       MMM                    Conglomerates        Industrials\n",
            "1       AOS   Specialty Industrial Machinery        Industrials\n",
            "2       ABT                  Medical Devices         Healthcare\n",
            "3      ABBV     Drug Manufacturers - General         Healthcare\n",
            "4       ACN  Information Technology Services         Technology\n",
            "..      ...                              ...                ...\n",
            "493    WDAY           Software - Application         Technology\n",
            "494    WYNN                Resorts & Casinos  Consumer Cyclical\n",
            "495     XEL   Utilities - Regulated Electric          Utilities\n",
            "496     XYL   Specialty Industrial Machinery        Industrials\n",
            "497     YUM                      Restaurants  Consumer Cyclical\n",
            "\n",
            "[498 rows x 3 columns]\n"
          ]
        }
      ]
    },
    {
      "cell_type": "code",
      "source": [
        "#Inserting another table in snowflake\n",
        "table = \"industry_sector_table\"\n",
        "#Establishing Connections\n",
        "print(\"Establishing Connection...\")\n",
        "cnn = snowflake.connector.connect(\n",
        "  account = \"VFQPREV-IVC18679\",\n",
        "  user = \"CARLOSJZAMORASANTANA\",\n",
        "  password = \"Snowflake2025#\",\n",
        "  role = \"ACCOUNTADMIN\",\n",
        "  warehouse = \"financial_warehouse\",\n",
        "  database = \"financial_database\",\n",
        "  schema = \"financial_schema\",\n",
        ")\n",
        "print(\"Connected...\")\n",
        "print(\"Creating new table to insert DF into ...\")\n",
        "\n",
        "write_pandas(cnn, df, table, auto_create_table=True,use_deprecated_int96_timestamps=True, allow_truncated_timestamps=True)\n",
        "print('Completed...')\n",
        "print(\"Checking execution...\")\n",
        "print(\"Closing Connection...\")\n",
        "cnn.close()\n",
        "print('Done')"
      ],
      "metadata": {
        "colab": {
          "base_uri": "https://localhost:8080/"
        },
        "id": "s6MN1qu2VFZs",
        "outputId": "25d71777-4f61-4451-edc6-fe24cd08dc2d"
      },
      "execution_count": 188,
      "outputs": [
        {
          "output_type": "stream",
          "name": "stdout",
          "text": [
            "Establishing Connection...\n",
            "Connected...\n",
            "Creating new table to insert DF into ...\n"
          ]
        },
        {
          "output_type": "stream",
          "name": "stderr",
          "text": [
            "<ipython-input-188-1743240711>:17: UserWarning: Pandas Dataframe has non-standard index of type <class 'pandas.core.indexes.base.Index'> which will not be written. Consider changing the index to pd.RangeIndex(start=0,...,step=1) or call reset_index() to keep index as column(s)\n",
            "  write_pandas(cnn, df, table, auto_create_table=True,use_deprecated_int96_timestamps=True, allow_truncated_timestamps=True)\n"
          ]
        },
        {
          "output_type": "stream",
          "name": "stdout",
          "text": [
            "Completed...\n",
            "Checking execution...\n",
            "Closing Connection...\n",
            "Done\n"
          ]
        }
      ]
    }
  ]
}